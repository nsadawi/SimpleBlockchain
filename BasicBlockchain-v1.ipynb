{
 "cells": [
  {
   "cell_type": "markdown",
   "metadata": {},
   "source": [
    "# Creating a Basic Blockchain with Python"
   ]
  },
  {
   "cell_type": "code",
   "execution_count": 33,
   "metadata": {},
   "outputs": [],
   "source": [
    "import hashlib\n",
    "from datetime import datetime"
   ]
  },
  {
   "cell_type": "markdown",
   "metadata": {},
   "source": [
    "## Part 1: A Simple Blockchain\n",
    "\n",
    "#### Remember:\n",
    "- The blockchain is meant to add new blocks\n",
    "- It is not meant to change existing blocks\n",
    "- It is not meant to delete existing blocks"
   ]
  },
  {
   "cell_type": "code",
   "execution_count": 34,
   "metadata": {},
   "outputs": [],
   "source": [
    "class Block:\n",
    "    def __init__(self, timestamp, data, previous_hash = ''):\n",
    "        # tells us when the block was created\n",
    "        self.timestamp = timestamp\n",
    "        # data can be anything .. for crypto currency we might store\n",
    "        # details of a transaction such as how much money was transferred \n",
    "        # who the sender is and who the receiver is!\n",
    "        self.data = str(data)\n",
    "        # the hash of the previous block\n",
    "        # imporant for the integrity of the blockchain\n",
    "        self.previous_hash = previous_hash\n",
    "        # the hash of the current block\n",
    "        self.blockhash = self.calculate_hash()\n",
    "        \n",
    "    def calculate_hash(self):\n",
    "        # calculates the hash of the current block\n",
    "        # takes the properties of this block and creates a hash for them!\n",
    "        concat = self.previous_hash + self.timestamp + self.data \n",
    "        return hashlib.sha224(concat.encode('utf-8')).hexdigest()\n",
    "    \n",
    "    def get_block_data(self):\n",
    "        # returns the properties of current block\n",
    "        return {\n",
    "            'timestamp': self.timestamp,\n",
    "            'data': self.data,\n",
    "            'previous_hash': self.previous_hash,\n",
    "            'hash': self.blockhash\n",
    "        }\n",
    "   \n",
    "\n",
    "class BlockChain:\n",
    "    def __init__(self):\n",
    "        # the blockchain is going to be a linked list!\n",
    "        self.chain = []\n",
    "        self.chain.append(self.create_genesis_block())\n",
    "\n",
    "    def create_genesis_block(self):\n",
    "        # creates the very first block in the blockchain\n",
    "        return Block(get_timestamp(), [\"Genesis Block\"], \"0\")\n",
    "    \n",
    "    def get_latest_block(self):\n",
    "        # returns the very last block in the blockchain\n",
    "        return self.chain[-1]\n",
    "    \n",
    "    def add_block(self, new_block):\n",
    "        # adds a new block to the blockchain\n",
    "        # set the previous hash\n",
    "        new_block.previous_hash = self.get_latest_block().blockhash\n",
    "        # recalculate the hash of the current block because we've changed its previous_hash\n",
    "        # every time we change something in the block we need to recalculate its hash\n",
    "        new_block.blockhash = new_block.calculate_hash()\n",
    "        # add the block to the blockchain\n",
    "        self.chain.append(new_block)\n",
    "        \n",
    "    def is_chain_valid(self):\n",
    "        # to verify the integrity of the blockchain\n",
    "        # we go through all blocks (no need to start from the genesis block)\n",
    "        for i in range(1, len(self.chain)):\n",
    "            current = self.chain[i]\n",
    "            previous = self.chain[i-1]\n",
    "            # make sure the hash of the current block is still valid\n",
    "            if current.blockhash != current.calculate_hash():\n",
    "                return False\n",
    "            # make sure the current block is connected to the correct previous block\n",
    "            if current.previous_hash != previous.blockhash:\n",
    "                return False\n",
    "        # if we get here then the blockchain is valid\n",
    "        return True\n",
    "            \n",
    "\n",
    "def get_timestamp():\n",
    "    # A simple function to return the current timestamp!\n",
    "    date = datetime.now()\n",
    "    # convert datetime to timestamp\n",
    "    timestamp = datetime.timestamp(date)\n",
    "    return str(timestamp)\n",
    "\n"
   ]
  },
  {
   "cell_type": "code",
   "execution_count": 35,
   "metadata": {},
   "outputs": [],
   "source": [
    "bc = BlockChain()\n",
    "d = {\n",
    "    'Name': 'Noureddin Sadawi',\n",
    "    \"Nationality\": \"Libyan\",\n",
    "    \"Height\": 179,\n",
    "    \"Weight\": 80\n",
    "}\n",
    "bc.add_block(Block(get_timestamp(), d))\n",
    "\n",
    "d = {\n",
    "    'Name': 'Josef Baker',\n",
    "    \"Nationality\": \"British\",\n",
    "    \"Height\": 185,\n",
    "    \"Weight\": 85\n",
    "}\n",
    "bc.add_block(Block(get_timestamp(), d))"
   ]
  },
  {
   "cell_type": "code",
   "execution_count": 42,
   "metadata": {},
   "outputs": [
    {
     "data": {
      "text/plain": [
       "False"
      ]
     },
     "execution_count": 42,
     "metadata": {},
     "output_type": "execute_result"
    }
   ],
   "source": [
    "bc.is_chain_valid()"
   ]
  },
  {
   "cell_type": "code",
   "execution_count": 40,
   "metadata": {},
   "outputs": [
    {
     "data": {
      "text/plain": [
       "'7d608de81b9047eefec951353eb8bead2bd3af41dddc060e619d8592'"
      ]
     },
     "execution_count": 40,
     "metadata": {},
     "output_type": "execute_result"
    }
   ],
   "source": [
    "bc.chain[1].blockhash"
   ]
  },
  {
   "cell_type": "code",
   "execution_count": 43,
   "metadata": {},
   "outputs": [],
   "source": [
    "bc.chain[1].data = \"Test\"\n",
    "# even if you recalculate the hash of this block, the blockchain is still invalid\n",
    "# because the relationship with the previous block is now broken. \n",
    "bc.chain[1].blockhash = bc.chain[1].calculate_hash()"
   ]
  },
  {
   "cell_type": "code",
   "execution_count": 46,
   "metadata": {},
   "outputs": [
    {
     "data": {
      "text/plain": [
       "False"
      ]
     },
     "execution_count": 46,
     "metadata": {},
     "output_type": "execute_result"
    }
   ],
   "source": [
    "bc.is_chain_valid()"
   ]
  },
  {
   "cell_type": "code",
   "execution_count": 47,
   "metadata": {},
   "outputs": [
    {
     "data": {
      "text/plain": [
       "'89e69766ae8a1d69d4baaf2f3232f0b9d8735eaf5a7b107e91f8fa4f'"
      ]
     },
     "execution_count": 47,
     "metadata": {},
     "output_type": "execute_result"
    }
   ],
   "source": [
    "bc.chain[1].blockhash"
   ]
  },
  {
   "cell_type": "markdown",
   "metadata": {},
   "source": [
    "## Part 2: Proof of Work\n",
    "\n",
    "\n",
    "\n",
    "#### Extension:\n",
    "- Now we can create a transaction, compute its hash and add it to the chain  \n",
    "- Computers can do that very quickly but we don't want that!\n",
    "- We don't want large numbers of blocks added to the blockchain in a short period of time\n",
    "- Also, currently we can change a block and recalculate the hashes of the blocks after it and the blockchain will still be valid\n",
    "- We don't want that!\n",
    "- To avoid that, blockchains have something called Proof of Work!\n",
    "- With this mechanism you have to prove that you have put in a lot of computing power into making a Block\n",
    "- This is called Mining\n",
    "- BitCoin, for example, requires the hash of a block to begin with a certain number of 0's\n",
    "\n",
    "- Because we can't influence the output of a hash function, we must try a large number of times and hope to generate a hash with the required number of leading 0's\n",
    "- This requires a lot of computing power\n",
    "- It is known as the difficulty level\n",
    "- It helps in controlling the number of created valid blocks in a certain period of time\n",
    "- Bitcoin aims for a new block every 10 minutes\n",
    "- As computers get faster over time, they'll require less time to mine a new block\n",
    "- To compensate for that, the difficulty level is increased\n",
    "\n"
   ]
  },
  {
   "cell_type": "code",
   "execution_count": 48,
   "metadata": {},
   "outputs": [],
   "source": [
    "class Block:\n",
    "    def __init__(self, timestamp, data, previous_hash = ''):\n",
    "        # tells us when the block was created\n",
    "        self.timestamp = timestamp\n",
    "        # data can be anything .. for crypto currency we might store\n",
    "        # details of a transaction such as how much money was transferred \n",
    "        # who the sender is and who the receiver is!\n",
    "        self.data = str(data)\n",
    "        # the hash of the previous block\n",
    "        # imporant for the integrity of the blockchain\n",
    "        self.previous_hash = previous_hash\n",
    "        # the nonce is needed for mining blocks\n",
    "        self.nonce = 0\n",
    "        # the hash of the current block\n",
    "        self.blockhash = self.calculate_hash()\n",
    "        \n",
    "        \n",
    "    def calculate_hash(self):\n",
    "        # calculates the hash of the current block\n",
    "        # takes the properties of this block and creates a hash for them!\n",
    "        concat = self.previous_hash + self.timestamp + self.data + str(self.nonce)\n",
    "        return hashlib.sha224(concat.encode('utf-8')).hexdigest()\n",
    "    \n",
    "    def mine_block(self, difficulty):\n",
    "        # here we see the benefit of the nonce, we increment it until we get the right hash\n",
    "        # this is because the hash can always be the same with the same block contents\n",
    "        while self.blockhash[:difficulty] != \"0\" * difficulty:\n",
    "            self.nonce = self.nonce + 1\n",
    "            self.blockhash = self.calculate_hash()\n",
    "    \n",
    "    def get_block_data(self):\n",
    "        return {\n",
    "            'timestamp': self.timestamp,\n",
    "            'data': self.data,\n",
    "            'previous_hash': self.previous_hash,\n",
    "            'hash': self.blockhash,\n",
    "            'nonce': self.nonce\n",
    "        }\n",
    "   \n",
    "\n",
    "class BlockChain:\n",
    "    def __init__(self, difficulty=2):\n",
    "        # the blockchain is going to be a linked list!\n",
    "        self.chain = []\n",
    "        self.chain.append(self.create_genesis_block())\n",
    "        self.difficulty = difficulty\n",
    "\n",
    "    def create_genesis_block(self):\n",
    "        # creates the very first block in the blockchain\n",
    "        return Block(get_timestamp(), [\"Genesis Block\"], \"0\")\n",
    "    \n",
    "    def get_latest_block(self):\n",
    "        # returns the very last block in the blockchain\n",
    "        return self.chain[-1]\n",
    "    \n",
    "    def add_block(self, new_block):\n",
    "        # adds a new block to the blockchain\n",
    "        # set the previous hash\n",
    "        new_block.previous_hash = self.get_latest_block().blockhash\n",
    "        # now we call the mine_block method\n",
    "        new_block.mine_block(self.difficulty)\n",
    "        # once the block is mined it is added to the blockchain\n",
    "        self.chain.append(new_block)\n",
    "    \n",
    "        \n",
    "    def is_chain_valid(self):\n",
    "        # to verify the integrity of the blockchain\n",
    "        # we go through all blocks (no need to start from the genesis block)\n",
    "        for i in range(1, len(self.chain)):\n",
    "            current = self.chain[i]\n",
    "            previous = self.chain[i-1]\n",
    "            # make sure the hash of the current block is still valid\n",
    "            if current.blockhash != current.calculate_hash():\n",
    "                return False\n",
    "            # make sure the current block is connected to the correct previous block\n",
    "            if current.previous_hash != previous.blockhash:\n",
    "                return False\n",
    "        # if we get here then the blockchain is valid\n",
    "        return True\n",
    "            \n",
    "\n",
    "def get_timestamp():\n",
    "    # A simple function to return the current timestamp!\n",
    "    date = datetime.now()\n",
    "    # convert datetime to timestamp\n",
    "    timestamp = datetime.timestamp(date)\n",
    "    return str(timestamp)\n",
    "\n"
   ]
  },
  {
   "cell_type": "code",
   "execution_count": 53,
   "metadata": {},
   "outputs": [],
   "source": [
    "bc = BlockChain(difficulty=5)\n",
    "d = {\n",
    "    'Name': 'Noureddin Sadawi',\n",
    "    \"Nationality\": \"Libyan\",\n",
    "    \"Height\": 179,\n",
    "    \"Weight\": 80\n",
    "}\n",
    "bc.add_block(Block(get_timestamp(), d))\n",
    "d = {\n",
    "    'Name': 'Josef Baker',\n",
    "    \"Nationality\": \"British\",\n",
    "    \"Height\": 185,\n",
    "    \"Weight\": 85\n",
    "}\n",
    "bc.add_block(Block(get_timestamp(), d))"
   ]
  },
  {
   "cell_type": "code",
   "execution_count": 54,
   "metadata": {},
   "outputs": [
    {
     "data": {
      "text/plain": [
       "{'timestamp': '1670878054.197167',\n",
       " 'data': \"{'Name': 'Josef Baker', 'Nationality': 'British', 'Height': 185, 'Weight': 85}\",\n",
       " 'previous_hash': '0000072a8bfd4fad7283540c265604cdcff3d536dfe24ce4d20ff287',\n",
       " 'hash': '000001f3f29875ae2e6d1cc291548586e9af27133c61e2d21d6c4eb6',\n",
       " 'nonce': 1243832}"
      ]
     },
     "execution_count": 54,
     "metadata": {},
     "output_type": "execute_result"
    }
   ],
   "source": [
    "bc.chain[2].get_block_data()"
   ]
  },
  {
   "cell_type": "code",
   "execution_count": null,
   "metadata": {},
   "outputs": [],
   "source": [
    "bc.chain[1].blockhash"
   ]
  },
  {
   "cell_type": "code",
   "execution_count": null,
   "metadata": {},
   "outputs": [],
   "source": []
  }
 ],
 "metadata": {
  "kernelspec": {
   "display_name": "Python 3",
   "language": "python",
   "name": "python3"
  },
  "language_info": {
   "codemirror_mode": {
    "name": "ipython",
    "version": 3
   },
   "file_extension": ".py",
   "mimetype": "text/x-python",
   "name": "python",
   "nbconvert_exporter": "python",
   "pygments_lexer": "ipython3",
   "version": "3.7.6"
  }
 },
 "nbformat": 4,
 "nbformat_minor": 4
}
